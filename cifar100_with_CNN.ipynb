{
 "nbformat": 4,
 "nbformat_minor": 0,
 "metadata": {
  "colab": {
   "name": "CNN_Assignment_1.ipynb",
   "provenance": [],
   "toc_visible": true
  },
  "kernelspec": {
   "display_name": "Python 3",
   "language": "python",
   "name": "python3"
  },
  "language_info": {
   "codemirror_mode": {
    "name": "ipython",
    "version": 3
   },
   "file_extension": ".py",
   "mimetype": "text/x-python",
   "name": "python",
   "nbconvert_exporter": "python",
   "pygments_lexer": "ipython3",
   "version": "3.7.10"
  },
  "accelerator": "GPU"
 },
 "cells": [
  {
   "cell_type": "markdown",
   "metadata": {
    "id": "uEp7zhUJ5k0k"
   },
   "source": [
    "# CIFAR 100 Dataset\n",
    "\n",
    "To compare both types of networks we are going to use the CIFAR dataset, which contains 100 different object clases that the learnt networks should predict. Each sample of the dataset is a RGB image of size 32x32."
   ]
  },
  {
   "cell_type": "code",
   "metadata": {
    "id": "irb-HczmC1TQ"
   },
   "source": [
    "BOOST_UP = True"
   ],
   "execution_count": null,
   "outputs": []
  },
  {
   "cell_type": "code",
   "metadata": {
    "id": "ConJxnlf5k0k",
    "colab": {
     "base_uri": "https://localhost:8080/"
    },
    "outputId": "eb8a0ed2-27f7-4f92-8e01-cb712bcc8a89"
   },
   "source": [
    "import tensorflow as tf\n",
    "import numpy as np\n",
    "import pandas as pd\n",
    "import matplotlib.pyplot as plt\n",
    "from tensorflow.keras.datasets import cifar100\n",
    "(_x_train, _y_train), (_x_test, _y_test) = cifar100.load_data(label_mode='fine')"
   ],
   "execution_count": 1,
   "outputs": [
    {
     "output_type": "stream",
     "text": [
      "Downloading data from https://www.cs.toronto.edu/~kriz/cifar-100-python.tar.gz\n",
      "169009152/169001437 [==============================] - 2s 0us/step\n"
     ],
     "name": "stdout"
    }
   ]
  },
  {
   "cell_type": "code",
   "metadata": {
    "id": "_04MsS085k0o"
   },
   "source": [
    "class_names = np.unique(_y_train)\n",
    "num_classes = len(class_names)\n",
    "# Data pre-processing\n",
    "x_val = _x_train[40000:]\n",
    "y_val = _y_train[40000:]\n",
    "x_train = _x_train[:40000]\n",
    "y_train = _y_train[:40000]\n",
    "x_test = _x_test\n",
    "y_test = _y_test\n",
    "\n",
    "# Normalize the images to be values in range [0, 1]\n",
    "x_train = x_train.astype('float32')\n",
    "x_val = x_val.astype('float32')\n",
    "x_test = x_test.astype('float32')\n",
    "x_train /= 255.0\n",
    "x_val /= 255.0\n",
    "x_test /= 255.0\n",
    "\n",
    "from tensorflow.keras.utils import to_categorical\n",
    "# Converts a class vector (integers) to binary class matrix\n",
    "tr_labels = to_categorical(y_train, num_classes)\n",
    "va_labels = to_categorical(y_val, num_classes)\n",
    "te_labels = to_categorical(y_test, num_classes)\n",
    "\n",
    "CIFAR_SIZE = (32, 32)"
   ],
   "execution_count": 2,
   "outputs": []
  },
  {
   "cell_type": "code",
   "metadata": {
    "id": "YYwyKG505k0o"
   },
   "source": [
    "# Tensorboard\n",
    "from time import time\n",
    "from tensorflow.keras.callbacks import TensorBoard\n",
    "tensorboard = TensorBoard(log_dir='logs/{}'.format(time()))"
   ],
   "execution_count": 3,
   "outputs": []
  },
  {
   "cell_type": "markdown",
   "metadata": {
    "id": "2zNmoZcb5k0t"
   },
   "source": [
    "# Train a convolutional Neuronal Network "
   ]
  },
  {
   "cell_type": "code",
   "metadata": {
    "id": "ByciKXg55k0t"
   },
   "source": [
    "import tensorflow.keras\n",
    "from tensorflow.keras.models import Sequential\n",
    "from tensorflow.keras.layers import Dense, Dropout, Activation, Flatten\n",
    "from tensorflow.keras.layers import Conv2D, MaxPooling2D\n",
    "from tensorflow.keras import optimizers\n",
    "input_shape = (CIFAR_SIZE[0], CIFAR_SIZE[1], 3)\n",
    "\n",
    "\n",
    "def base_cnn(n_filter=20, kernel_size=(3,3), strides=(1,1), drop_out=0.2, act='elu'):\n",
    "    cnn = Sequential(name='f{}_k{}_s{}_do{}_{}'.format(n_filter, kernel_size[0], strides[0], drop_out, int(time())))\n",
    "    cnn.add(Conv2D(n_filter, kernel_size=kernel_size, padding='same', activation=act, input_shape=input_shape))\n",
    "    cnn.add(MaxPooling2D((2, 2)))\n",
    "    cnn.add(Conv2D(n_filter * 2, strides=strides, kernel_size=kernel_size, activation=act, padding='same'))\n",
    "    cnn.add(MaxPooling2D((2, 2)))\n",
    "    cnn.add(Dropout(drop_out))\n",
    "    cnn.add(Conv2D(n_filter * 2, strides=strides, kernel_size=kernel_size, padding='same'))\n",
    "    cnn.add(Activation(act))\n",
    "    cnn.add(Dropout(drop_out))\n",
    "    cnn.add(Flatten())\n",
    "    cnn.add(Activation(act))\n",
    "    cnn.add(Dropout(drop_out))\n",
    "    cnn.add(Dense(num_classes))\n",
    "    cnn.add(Activation('softmax'))\n",
    "    return cnn\n",
    "\n",
    "def compile_cnn(cnn, l_rate=0.0007):\n",
    "    opt = optimizers.Adam(learning_rate=l_rate)\n",
    "    cnn.compile(optimizer=opt, loss='categorical_crossentropy', metrics=['accuracy'])\n",
    "    summary = cnn.summary()\n",
    "    return cnn"
   ],
   "execution_count": 4,
   "outputs": []
  },
  {
   "cell_type": "code",
   "metadata": {
    "id": "OB6_ZEqq5k0t"
   },
   "source": [
    "def cnn_fit(cnn, batch_size=16, epochs=40):\n",
    "    data = cnn.fit(x_train, tr_labels, batch_size=batch_size, epochs=epochs, verbose=0, validation_data=(x_val, va_labels))\n",
    "    temp_name = cnn.name + str(int(time()))\n",
    "    cnn.save(temp_name)\n",
    "    return temp_name"
   ],
   "execution_count": 5,
   "outputs": []
  },
  {
   "cell_type": "markdown",
   "metadata": {
    "id": "DIVfjV3Nz2xL"
   },
   "source": [
    "# Optimizing filter, kernel and stride"
   ]
  },
  {
   "cell_type": "code",
   "metadata": {
    "id": "IcJG3dxPz1Q1"
   },
   "source": [
    "cnns = []\n",
    "\n",
    "for each_filter in range(20, 25, 4):\n",
    "  for each_kernel_size in [(x, x) for x in range(3, 6)]:\n",
    "    for each_stride in [(x, x) for x in range(1, 4)]:\n",
    "      cnns.append(base_cnn(n_filter=each_filter, kernel_size=each_kernel_size, strides=each_stride))"
   ],
   "execution_count": null,
   "outputs": []
  },
  {
   "cell_type": "markdown",
   "metadata": {
    "id": "jFaNgJRP0C4v"
   },
   "source": [
    "# Optimizing adding a Dense Layer"
   ]
  },
  {
   "cell_type": "code",
   "metadata": {
    "id": "rk4MgBgs0CIr",
    "colab": {
     "base_uri": "https://localhost:8080/",
     "height": 198
    },
    "outputId": "e0ee0676-b7a1-4a4a-ef30-8cec4142e586"
   },
   "source": [
    "cnns = []\n",
    "\n",
    "for each_dense in [each*each for each in range(9, 13)]:\n",
    "  cnns.append(base_cnn(n_filter=20, strides=(1,1)))"
   ],
   "execution_count": null,
   "outputs": [
    {
     "output_type": "error",
     "ename": "TypeError",
     "evalue": "ignored",
     "traceback": [
      "\u001B[0;31m---------------------------------------------------------------------------\u001B[0m",
      "\u001B[0;31mTypeError\u001B[0m                                 Traceback (most recent call last)",
      "\u001B[0;32m<ipython-input-56-f0a65abfe862>\u001B[0m in \u001B[0;36m<module>\u001B[0;34m()\u001B[0m\n\u001B[1;32m      2\u001B[0m \u001B[0;34m\u001B[0m\u001B[0m\n\u001B[1;32m      3\u001B[0m \u001B[0;32mfor\u001B[0m \u001B[0meach_dense\u001B[0m \u001B[0;32min\u001B[0m \u001B[0;34m[\u001B[0m\u001B[0meach\u001B[0m\u001B[0;34m*\u001B[0m\u001B[0meach\u001B[0m \u001B[0;32mfor\u001B[0m \u001B[0meach\u001B[0m \u001B[0;32min\u001B[0m \u001B[0mrange\u001B[0m\u001B[0;34m(\u001B[0m\u001B[0;36m9\u001B[0m\u001B[0;34m,\u001B[0m \u001B[0;36m13\u001B[0m\u001B[0;34m)\u001B[0m\u001B[0;34m]\u001B[0m\u001B[0;34m:\u001B[0m\u001B[0;34m\u001B[0m\u001B[0;34m\u001B[0m\u001B[0m\n\u001B[0;32m----> 4\u001B[0;31m   \u001B[0mcnns\u001B[0m\u001B[0;34m.\u001B[0m\u001B[0mappend\u001B[0m\u001B[0;34m(\u001B[0m\u001B[0mbase_cnn\u001B[0m\u001B[0;34m(\u001B[0m\u001B[0mn_filter\u001B[0m\u001B[0;34m=\u001B[0m\u001B[0;36m20\u001B[0m\u001B[0;34m,\u001B[0m \u001B[0mstrides\u001B[0m\u001B[0;34m=\u001B[0m\u001B[0;34m(\u001B[0m\u001B[0;36m1\u001B[0m\u001B[0;34m,\u001B[0m\u001B[0;36m1\u001B[0m\u001B[0;34m)\u001B[0m\u001B[0;34m,\u001B[0m \u001B[0mdense\u001B[0m\u001B[0;34m=\u001B[0m\u001B[0meach_dense\u001B[0m\u001B[0;34m)\u001B[0m\u001B[0;34m)\u001B[0m\u001B[0;34m\u001B[0m\u001B[0;34m\u001B[0m\u001B[0m\n\u001B[0m",
      "\u001B[0;31mTypeError\u001B[0m: base_cnn() got an unexpected keyword argument 'dense'"
     ]
    }
   ]
  },
  {
   "cell_type": "markdown",
   "metadata": {
    "id": "RD6ABM5t9RSH"
   },
   "source": [
    "# Optimizing the Dropout rates"
   ]
  },
  {
   "cell_type": "code",
   "metadata": {
    "id": "hlYjbmBa9QLC"
   },
   "source": [
    "cnns = []\n",
    "\n",
    "for each_do in np.arange(0.2, 0.31, 0.01):\n",
    "  cnns.append(base_cnn(drop_out=each_do))"
   ],
   "execution_count": null,
   "outputs": []
  },
  {
   "cell_type": "code",
   "metadata": {
    "id": "hNlTg2tA0PbT"
   },
   "source": [
    "compiled_cnns = list(map(compile_cnn, cnns))"
   ],
   "execution_count": null,
   "outputs": []
  },
  {
   "cell_type": "markdown",
   "metadata": {
    "id": "Z8qZW-gdOW_T"
   },
   "source": [
    "# Optimizing the learning rate"
   ]
  },
  {
   "cell_type": "code",
   "metadata": {
    "id": "6Kxu7eIbOWUA"
   },
   "source": [
    "compiled_cnns = [compile_cnn(base_cnn()) for each in np.arange(0.0005, 0.002, 0.0002)] # default = 0.001"
   ],
   "execution_count": null,
   "outputs": []
  },
  {
   "cell_type": "markdown",
   "metadata": {
    "id": "i35Kp8lMkmo2"
   },
   "source": [
    "# Optimal filter, kernel, stride, drop out, and learning rate"
   ]
  },
  {
   "cell_type": "code",
   "metadata": {
    "id": "dWfvd07ikmMH"
   },
   "source": [
    "compiled_cnns = [compile_cnn(base_cnn())]"
   ],
   "execution_count": null,
   "outputs": []
  },
  {
   "cell_type": "code",
   "metadata": {
    "id": "2U8TWqoO1UMx"
   },
   "source": [
    "model_names = [cnn_fit(compiled_cnns[0], batch_size=each) for each in range(2, 33, 2)]"
   ],
   "execution_count": null,
   "outputs": []
  },
  {
   "cell_type": "markdown",
   "metadata": {
    "id": "ruNr1xp91FYl"
   },
   "source": [
    "# Increase Epochs"
   ]
  },
  {
   "cell_type": "code",
   "metadata": {
    "id": "CW1GCAr-1Dkb"
   },
   "source": [
    "model_names = [cnn_fit(compiled_cnns[0], batch_size=30, epochs=each) for each in range(10, 150, 10)]"
   ],
   "execution_count": null,
   "outputs": []
  },
  {
   "cell_type": "markdown",
   "metadata": {
    "id": "vVFFFsar2jgI"
   },
   "source": [
    "# Optimizing the activation function\n"
   ]
  },
  {
   "cell_type": "code",
   "metadata": {
    "id": "xTYna-HQ2tzp"
   },
   "source": [
    "cnns = [base_cnn(), base_cnn(act='elu')]"
   ],
   "execution_count": null,
   "outputs": []
  },
  {
   "cell_type": "code",
   "metadata": {
    "id": "9yVUWQ7g3bEB"
   },
   "source": [
    "compiled_cnns = list(map(compile_cnn, cnns))"
   ],
   "execution_count": null,
   "outputs": []
  },
  {
   "cell_type": "code",
   "metadata": {
    "id": "q7Ya6KLz3Ol1"
   },
   "source": [
    "model_names = [cnn_fit(each) for each in compiled_cnns]"
   ],
   "execution_count": null,
   "outputs": []
  },
  {
   "cell_type": "markdown",
   "metadata": {
    "id": "PfhvQ7sfQ1Ru"
   },
   "source": [
    "#Combination of Optimal Hyperparameters"
   ]
  },
  {
   "cell_type": "code",
   "metadata": {
    "id": "kwx5x-jPQ4cE"
   },
   "source": [
    "optimal_cnn = compile_cnn(base_cnn())\n",
    "history = optimal_cnn.fit(x_train, tr_labels, batch_size=16, epochs=40, verbose=0, validation_data=(x_val, va_labels))"
   ],
   "execution_count": null,
   "outputs": []
  },
  {
   "cell_type": "code",
   "metadata": {
    "id": "DgIalbIY_E5J"
   },
   "source": [
    "plt.plot(history.history['accuracy'], label='accuracy')\n",
    "plt.plot(history.history['val_accuracy'], label = 'val_accuracy')\n",
    "plt.xlabel('Epoch')\n",
    "plt.ylabel('Accuracy')\n",
    "plt.ylim([0.5, 1])\n",
    "plt.legend(loc='lower right')\n",
    "\n",
    "test_loss, test_acc = optimal_cnn.evaluate(x_test, te_labels, verbose=2)"
   ],
   "execution_count": null,
   "outputs": []
  },
  {
   "cell_type": "markdown",
   "metadata": {
    "id": "2yBjsNSOBzzk"
   },
   "source": [
    "# Data Augmentation\n"
   ]
  },
  {
   "cell_type": "code",
   "metadata": {
    "id": "iOX8Z7ZtB1ry"
   },
   "source": [
    "from keras.preprocessing.image import ImageDataGenerator\n",
    "\n",
    "train_datagen = ImageDataGenerator(featurewise_center=True,\n",
    "                             featurewise_std_normalization=True,\n",
    "                             rotation_range=20,\n",
    "                             width_shift_range=0.2,\n",
    "                             height_shift_range=0.2,\n",
    "                             horizontal_flip=True)\n",
    "\n",
    "val_datagen = ImageDataGenerator()\n",
    "test_datagen = ImageDataGenerator()"
   ],
   "execution_count": 6,
   "outputs": []
  },
  {
   "cell_type": "code",
   "metadata": {
    "colab": {
     "base_uri": "https://localhost:8080/"
    },
    "id": "xlf335OYCNka",
    "outputId": "e2f2d5ed-7513-4494-a4bf-70f9e5ef6c1f"
   },
   "source": [
    "cnn = base_cnn()\n",
    "compiled_cnn=compile_cnn(cnn)\n",
    "history = cnn.fit_generator(train_datagen.flow(x_train, \n",
    "                                               tr_labels, \n",
    "                                                batch_size=32), \n",
    "                            steps_per_epoch=len(x_train)//32, \n",
    "                            epochs=40,\n",
    "                            validation_data=test_datagen.flow(x_val, \n",
    "                                                              va_labels, \n",
    "                                                              batch_size=16),\n",
    "                            validation_steps=len(x_val)//32)  # 800//16 --> 36"
   ],
   "execution_count": null,
   "outputs": [
    {
     "output_type": "stream",
     "text": [
      "Model: \"f20_k3_s1_do0.2_1616864656\"\n",
      "_________________________________________________________________\n",
      "Layer (type)                 Output Shape              Param #   \n",
      "=================================================================\n",
      "conv2d (Conv2D)              (None, 32, 32, 20)        560       \n",
      "_________________________________________________________________\n",
      "max_pooling2d (MaxPooling2D) (None, 16, 16, 20)        0         \n",
      "_________________________________________________________________\n",
      "conv2d_1 (Conv2D)            (None, 16, 16, 40)        7240      \n",
      "_________________________________________________________________\n",
      "max_pooling2d_1 (MaxPooling2 (None, 8, 8, 40)          0         \n",
      "_________________________________________________________________\n",
      "dropout (Dropout)            (None, 8, 8, 40)          0         \n",
      "_________________________________________________________________\n",
      "conv2d_2 (Conv2D)            (None, 8, 8, 40)          14440     \n",
      "_________________________________________________________________\n",
      "activation (Activation)      (None, 8, 8, 40)          0         \n",
      "_________________________________________________________________\n",
      "dropout_1 (Dropout)          (None, 8, 8, 40)          0         \n",
      "_________________________________________________________________\n",
      "flatten (Flatten)            (None, 2560)              0         \n",
      "_________________________________________________________________\n",
      "activation_1 (Activation)    (None, 2560)              0         \n",
      "_________________________________________________________________\n",
      "dropout_2 (Dropout)          (None, 2560)              0         \n",
      "_________________________________________________________________\n",
      "dense (Dense)                (None, 100)               256100    \n",
      "_________________________________________________________________\n",
      "activation_2 (Activation)    (None, 100)               0         \n",
      "=================================================================\n",
      "Total params: 278,340\n",
      "Trainable params: 278,340\n",
      "Non-trainable params: 0\n",
      "_________________________________________________________________\n"
     ],
     "name": "stdout"
    },
    {
     "output_type": "stream",
     "text": [
      "/usr/local/lib/python3.7/dist-packages/tensorflow/python/keras/engine/training.py:1844: UserWarning: `Model.fit_generator` is deprecated and will be removed in a future version. Please use `Model.fit`, which supports generators.\n",
      "  warnings.warn('`Model.fit_generator` is deprecated and '\n",
      "/usr/local/lib/python3.7/dist-packages/keras_preprocessing/image/image_data_generator.py:720: UserWarning: This ImageDataGenerator specifies `featurewise_center`, but it hasn't been fit on any training data. Fit it first by calling `.fit(numpy_data)`.\n",
      "  warnings.warn('This ImageDataGenerator specifies '\n",
      "/usr/local/lib/python3.7/dist-packages/keras_preprocessing/image/image_data_generator.py:728: UserWarning: This ImageDataGenerator specifies `featurewise_std_normalization`, but it hasn't been fit on any training data. Fit it first by calling `.fit(numpy_data)`.\n",
      "  warnings.warn('This ImageDataGenerator specifies '\n"
     ],
     "name": "stderr"
    },
    {
     "output_type": "stream",
     "text": [
      "Epoch 1/40\n",
      "1250/1250 [==============================] - 55s 18ms/step - loss: 4.1827 - accuracy: 0.0691 - val_loss: 3.5285 - val_accuracy: 0.1749\n",
      "Epoch 2/40\n",
      " 331/1250 [======>.......................] - ETA: 15s - loss: 3.6503 - accuracy: 0.1444"
     ],
     "name": "stdout"
    }
   ]
  },
  {
   "cell_type": "code",
   "metadata": {
    "colab": {
     "base_uri": "https://localhost:8080/"
    },
    "id": "bk_tE_CrH1Ct",
    "outputId": "3e00be2b-5b6f-4deb-b7d0-c70c259432ed"
   },
   "source": [
    "temp_name = cnn.name + str(int(time()))\n",
    "cnn.save(temp_name)\n",
    "model_names = [temp_name]"
   ],
   "execution_count": null,
   "outputs": [
    {
     "output_type": "stream",
     "text": [
      "INFO:tensorflow:Assets written to: f20_k3_s1_do0.2_16163543931616355210/assets\n"
     ],
     "name": "stdout"
    }
   ]
  },
  {
   "cell_type": "markdown",
   "metadata": {
    "id": "NbfjjANnCkit"
   },
   "source": [
    "# Test Zone"
   ]
  },
  {
   "cell_type": "markdown",
   "metadata": {
    "id": "4N6wGCp45k0u"
   },
   "source": [
    "Evaluate and measure the inference time:"
   ]
  },
  {
   "cell_type": "code",
   "metadata": {
    "id": "-5N6ZPfl1Vs6"
   },
   "source": [
    "def accuracy_test(model_name):\n",
    "    loaded_cnn = tf.keras.models.load_model(model_name)\n",
    "    start = time()\n",
    "    loss, acc = loaded_cnn.evaluate(x_test, te_labels, verbose=0)\n",
    "    end = time()\n",
    "    return ({'model':model_name, 'ETA':str(end - start), 'test_loss':str(loss), 'test_accuracy':str(acc)})"
   ],
   "execution_count": null,
   "outputs": []
  },
  {
   "cell_type": "code",
   "metadata": {
    "id": "2Fp73YoU5EKk"
   },
   "source": [
    "test_result_df = pd.DataFrame(columns=['model', 'ETA', 'test_loss', 'test_accuracy'])\n",
    "\n",
    "for each in model_names:\n",
    "  test_results = accuracy_test(each)\n",
    "  test_result_df = test_result_df.append(test_results, ignore_index=True)"
   ],
   "execution_count": null,
   "outputs": []
  },
  {
   "cell_type": "code",
   "metadata": {
    "colab": {
     "base_uri": "https://localhost:8080/",
     "height": 100
    },
    "id": "e-9o5uLi-YWv",
    "outputId": "ef4524ff-7127-41f0-ef78-ef0bb8816f8d"
   },
   "source": [
    "test_result_df"
   ],
   "execution_count": null,
   "outputs": [
    {
     "output_type": "execute_result",
     "data": {
      "text/html": [
       "<div>\n",
       "<style scoped>\n",
       "    .dataframe tbody tr th:only-of-type {\n",
       "        vertical-align: middle;\n",
       "    }\n",
       "\n",
       "    .dataframe tbody tr th {\n",
       "        vertical-align: top;\n",
       "    }\n",
       "\n",
       "    .dataframe thead th {\n",
       "        text-align: right;\n",
       "    }\n",
       "</style>\n",
       "<table border=\"1\" class=\"dataframe\">\n",
       "  <thead>\n",
       "    <tr style=\"text-align: right;\">\n",
       "      <th></th>\n",
       "      <th>model</th>\n",
       "      <th>ETA</th>\n",
       "      <th>test_loss</th>\n",
       "      <th>test_accuracy</th>\n",
       "    </tr>\n",
       "  </thead>\n",
       "  <tbody>\n",
       "    <tr>\n",
       "      <th>0</th>\n",
       "      <td>f20_k3_s1_do0.2_16163543931616355210</td>\n",
       "      <td>0.844588041305542</td>\n",
       "      <td>2.439692735671997</td>\n",
       "      <td>0.39070001244544983</td>\n",
       "    </tr>\n",
       "  </tbody>\n",
       "</table>\n",
       "</div>"
      ],
      "text/plain": [
       "                                  model  ...        test_accuracy\n",
       "0  f20_k3_s1_do0.2_16163543931616355210  ...  0.39070001244544983\n",
       "\n",
       "[1 rows x 4 columns]"
      ]
     },
     "metadata": {
      "tags": []
     },
     "execution_count": 72
    }
   ]
  },
  {
   "cell_type": "code",
   "metadata": {
    "id": "6gJZKrULV2J3"
   },
   "source": [
    "loaded_cnn = tf.keras.models.load_model('f20_k3_s1_do0.2_16163543931616355210')\n",
    "test_loss, tess_acc = loaded_cnn.evaluate(x_test, te_labels, verbose=0)"
   ],
   "execution_count": null,
   "outputs": []
  },
  {
   "cell_type": "code",
   "metadata": {
    "colab": {
     "base_uri": "https://localhost:8080/"
    },
    "id": "ueQb6juGWYev",
    "outputId": "e455765d-d0a9-4ef5-9cd9-c32ac050cf19"
   },
   "source": [
    "type(tess_acc)"
   ],
   "execution_count": null,
   "outputs": [
    {
     "output_type": "execute_result",
     "data": {
      "text/plain": [
       "float"
      ]
     },
     "metadata": {
      "tags": []
     },
     "execution_count": 77
    }
   ]
  },
  {
   "cell_type": "code",
   "metadata": {
    "colab": {
     "base_uri": "https://localhost:8080/",
     "height": 351
    },
    "id": "n6Nsr5lhH8me",
    "outputId": "de09b2e8-0957-4ea9-f4f2-4fdd3d9b35d6"
   },
   "source": [
    "print(history.history.keys())\n",
    "\n",
    "#  \"Accuracy\"\n",
    "plt.figure(figsize=(8, 5))\n",
    "plt.plot(history.history['loss'])\n",
    "plt.plot(history.history['accuracy'])\n",
    "plt.plot(history.history['val_loss'])\n",
    "plt.plot(history.history['val_accuracy'])\n",
    "plt.ylabel('Accuracy - Mean Log Loss')\n",
    "plt.xlabel('Epochs')\n",
    "plt.legend(['loss', 'accuracy', 'val_loss', 'val_accuracy'], loc='upper left')\n",
    "plt.grid()\n",
    "plt.show()"
   ],
   "execution_count": null,
   "outputs": [
    {
     "output_type": "stream",
     "text": [
      "dict_keys(['loss', 'accuracy', 'val_loss', 'val_accuracy'])\n"
     ],
     "name": "stdout"
    },
    {
     "output_type": "display_data",
     "data": {
      "image/png": "[encoded data removed]",
      "text/plain": [
       "<Figure size 576x360 with 1 Axes>"
      ]
     },
     "metadata": {
      "tags": [],
      "needs_background": "light"
     }
    }
   ]
  },
  {
   "cell_type": "code",
   "metadata": {
    "id": "4xJVUO4LVhfh"
   },
   "source": [
    ""
   ],
   "execution_count": null,
   "outputs": []
  }
 ]
}